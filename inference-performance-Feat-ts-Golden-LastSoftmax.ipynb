{
 "cells": [
  {
   "cell_type": "code",
   "execution_count": 1,
   "metadata": {},
   "outputs": [],
   "source": [
    "import networkx as nx\n",
    "import pandas as pd\n",
    "import matplotlib as mpl\n",
    "import matplotlib.pyplot as plt\n",
    "import scipy\n",
    "import numpy as np\n",
    "import math\n",
    "import pickle\n",
    "from tqdm import tqdm_notebook\n",
    "\n",
    "np.set_printoptions(suppress=True)\n",
    "pd.set_option('display.float_format', lambda x: '%.3f' % x)\n",
    "\n",
    "import warnings\n",
    "warnings.filterwarnings('ignore')\n",
    "\n",
    "from sklearn.model_selection import train_test_split\n",
    "from sklearn.metrics import precision_score, recall_score, f1_score, roc_auc_score"
   ]
  },
  {
   "cell_type": "code",
   "execution_count": 2,
   "metadata": {},
   "outputs": [],
   "source": [
    "import torch\n",
    "import torch.nn as nn\n",
    "import torch.nn.functional as F\n",
    "from torch import optim\n",
    "from torch.utils.data import DataLoader\n",
    "from torch.autograd import Variable\n",
    "from torch.optim.lr_scheduler import ExponentialLR"
   ]
  },
  {
   "cell_type": "code",
   "execution_count": 3,
   "metadata": {},
   "outputs": [],
   "source": [
    "def evaluate(y_true, y_pred):\n",
    "    prec = precision_score(y_true, y_pred)\n",
    "    recall = recall_score(y_true, y_pred)\n",
    "    f1 = f1_score(y_true, y_pred)\n",
    "    return prec, recall, f1"
   ]
  },
  {
   "cell_type": "code",
   "execution_count": 4,
   "metadata": {},
   "outputs": [],
   "source": [
    "torch.cuda.set_device(3)"
   ]
  },
  {
   "cell_type": "markdown",
   "metadata": {},
   "source": [
    "## Parameters Settings"
   ]
  },
  {
   "cell_type": "code",
   "execution_count": 5,
   "metadata": {},
   "outputs": [],
   "source": [
    "#\n",
    "# Classifier\n",
    "# ---------------------\n",
    "## focal loss\n",
    "alpha = 1\n",
    "gamma_pos = 6\n",
    "gamma_neg = 2\n",
    "grad_clip = 1\n",
    "lambda_l1 = 0\n",
    "weight_decay = 0   # lambda_l2\n",
    "\n",
    "#\n",
    "# VAT\n",
    "# ---------------------\n",
    "vat_xi = 1e-6\n",
    "vat_eps_pos = 1e2\n",
    "vat_eps_neg = 1e-1\n",
    "vat_ip = 1\n",
    "\n",
    "#\n",
    "# Training process\n",
    "# ---------------------\n",
    "train_batch_size = 128\n",
    "test_batch_size = 32\n",
    "\n",
    "#\n",
    "# Optimizer\n",
    "# ---------------------\n",
    "optim_type = 'rlars'       # ['adam', 'rlars']\n",
    "learn_rate = 1e-4\n",
    "adam_beta1 = 0.9\n",
    "adam_beta2 = 0.999\n",
    "\n",
    "max_epochs = 1600"
   ]
  },
  {
   "cell_type": "markdown",
   "metadata": {},
   "source": [
    "## Model Declaration"
   ]
  },
  {
   "cell_type": "markdown",
   "metadata": {},
   "source": [
    "### Conv1D"
   ]
  },
  {
   "cell_type": "code",
   "execution_count": 6,
   "metadata": {},
   "outputs": [],
   "source": [
    "class ConvNet(nn.Module):\n",
    "    def __init__(self, fc_dims, in_dim=256, out_dim=1):\n",
    "        super(ConvNet, self).__init__()\n",
    "        \n",
    "        self.in_dim = in_dim\n",
    "        self.conv1_dim = math.ceil(self.in_dim)\n",
    "        self.conv2_dim = math.ceil(self.in_dim * 2)\n",
    "        self.conv3_dim = math.ceil(self.in_dim)\n",
    "        self.outdim_en1 = fc_dims[0]\n",
    "        self.outdim_en2 = fc_dims[1]\n",
    "        self.out_dim = out_dim\n",
    "        \n",
    "        self.model_conv = nn.Sequential(\n",
    "            nn.Conv1d(in_channels=in_dim, out_channels=self.conv1_dim, kernel_size=2),\n",
    "            nn.BatchNorm1d(self.conv1_dim),\n",
    "            nn.ReLU(),\n",
    "            nn.Conv1d(in_channels=self.conv1_dim, out_channels=self.conv2_dim, kernel_size=2),\n",
    "            nn.BatchNorm1d(self.conv2_dim),\n",
    "            nn.ReLU(),\n",
    "            nn.Conv1d(in_channels=self.conv2_dim, out_channels=self.conv3_dim, kernel_size=2),\n",
    "            nn.BatchNorm1d(self.conv3_dim),\n",
    "            nn.ReLU(),\n",
    "        )\n",
    "        dropout_1 = 1 - 0.1\n",
    "        dropout_2 = 1 - 0.2\n",
    "        dropout_3 = 1 - 0.2\n",
    "        self.model_fc = nn.Sequential(\n",
    "            # FC 1\n",
    "            nn.Dropout(dropout_1),\n",
    "            nn.Linear(in_features=self.conv3_dim, out_features=self.outdim_en1),\n",
    "            nn.BatchNorm1d(self.outdim_en1),\n",
    "            nn.ReLU(),\n",
    "            # FC 2\n",
    "            nn.Dropout(dropout_2),\n",
    "            nn.Linear(in_features=self.outdim_en1, out_features=self.outdim_en2),\n",
    "            nn.BatchNorm1d(self.outdim_en2),\n",
    "            nn.ReLU(),\n",
    "            # FC 3\n",
    "            nn.Dropout(dropout_3),\n",
    "            nn.Linear(in_features=self.outdim_en2, out_features=self.out_dim),\n",
    "            nn.Sigmoid(),\n",
    "            nn.Softmax()\n",
    "        )\n",
    "        \n",
    "        print(\"conv_dim = [{}, {}, {}]\".format(self.conv1_dim, self.conv2_dim, self.conv3_dim))\n",
    "        print(\"fc_dim = [{}/{}, {}/{}, {}/{}, {}]\".format(self.conv3_dim, dropout_1, \n",
    "                                                          self.outdim_en1, dropout_2, \n",
    "                                                          self.outdim_en2, dropout_3, self.out_dim))\n",
    "        \n",
    "    def forward(self, x):\n",
    "        x = self.model_conv(x)\n",
    "        x = self.model_fc(x.view(x.shape[0], -1))\n",
    "        return x\n",
    "    \n",
    "    def get_trainable_parameters(self):\n",
    "        return (param for param in self.parameters() if param.requires_grad)"
   ]
  },
  {
   "cell_type": "markdown",
   "metadata": {},
   "source": [
    "### Focal Loss"
   ]
  },
  {
   "cell_type": "code",
   "execution_count": 7,
   "metadata": {},
   "outputs": [],
   "source": [
    "class FocalLoss2(nn.Module):\n",
    "    def __init__(self, alpha=0.01, gamma_pos=3, gamma_neg=2, logits=False, reduce=True):\n",
    "        super(FocalLoss2, self).__init__()\n",
    "        self.alpha = alpha\n",
    "        self.gamma_pos = gamma_pos\n",
    "        self.gamma_neg = gamma_neg\n",
    "        self.logits = logits\n",
    "        self.reduce = reduce\n",
    "    \n",
    "    def forward(self, inputs, targets):\n",
    "        if self.logits:\n",
    "            BCE_loss = F.binary_cross_entropy_with_logits(inputs, targets, reduce=False)\n",
    "        else:\n",
    "            BCE_loss = F.binary_cross_entropy(inputs, targets, reduce=False)\n",
    "        pt = torch.exp(-BCE_loss)\n",
    "        gamma_diff = self.gamma_pos - self.gamma_neg\n",
    "        F_loss_pos = self.alpha * targets * (1-pt)**self.gamma_pos * BCE_loss\n",
    "        F_loss_pos = torch.mean(pt)**(-gamma_diff) * F_loss_pos\n",
    "        F_loss_neg = self.alpha * (1 - targets) * (1-pt)**self.gamma_neg * BCE_loss\n",
    "        F_loss = 1 * F_loss_pos + 0.9 * F_loss_neg\n",
    "        \n",
    "        avg_F_loss_pos = torch.sum(F_loss_pos) / torch.sum(targets)\n",
    "        avg_F_loss_neg = torch.sum(F_loss_neg) / torch.sum(1-targets)\n",
    "        \n",
    "        if self.reduce:\n",
    "            return torch.mean(F_loss), avg_F_loss_pos, avg_F_loss_neg\n",
    "        else:\n",
    "            return F_loss, F_loss_pos, F_loss_neg"
   ]
  },
  {
   "cell_type": "markdown",
   "metadata": {},
   "source": [
    "## Data Preparation"
   ]
  },
  {
   "cell_type": "markdown",
   "metadata": {},
   "source": [
    "### Training / Testing partition setting"
   ]
  },
  {
   "cell_type": "code",
   "execution_count": 8,
   "metadata": {},
   "outputs": [],
   "source": [
    "training_date  = [(2018, 7), (2018, 8), (2018, 9),(2018, 10), (2018, 11), (2018, 12)]\n",
    "testing_date   = [(2019, 1), (2019, 2), (2019, 3), (2019, 4), (2019, 5), (2019, 6)]"
   ]
  },
  {
   "cell_type": "markdown",
   "metadata": {},
   "source": [
    "### Data loading"
   ]
  },
  {
   "cell_type": "code",
   "execution_count": 9,
   "metadata": {},
   "outputs": [],
   "source": [
    "data = dict(map(lambda ym: (ym, \n",
    "                            np.load('../../user_data/CloudMile/data/data_{}_{}.npz'.format(*ym), allow_pickle=True)), \n",
    "                training_date + testing_date))"
   ]
  },
  {
   "cell_type": "code",
   "execution_count": 10,
   "metadata": {},
   "outputs": [],
   "source": [
    "train_data = list(map(lambda ym: data[ym], training_date))\n",
    "test_data = list(map(lambda ym: data[ym], testing_date))\n",
    "\n",
    "X_train_ = np.concatenate([data['arr_0'] for data in train_data])\n",
    "y_train_ = np.concatenate([data['arr_1'] for data in train_data])\n",
    "training_announce = np.concatenate([data['arr_2'] for data in train_data])\n",
    "training_FILTER = np.concatenate([data['arr_3'] for data in train_data])\n",
    "\n",
    "X_test_ = np.concatenate([data['arr_0'] for data in test_data])\n",
    "y_test_ = np.concatenate([data['arr_1'] for data in test_data])\n",
    "testing_announce = np.concatenate([data['arr_2'] for data in test_data])\n",
    "testing_FILTER = np.concatenate([data['arr_3'] for data in test_data])"
   ]
  },
  {
   "cell_type": "markdown",
   "metadata": {},
   "source": [
    "### Extracting announced data"
   ]
  },
  {
   "cell_type": "code",
   "execution_count": 11,
   "metadata": {},
   "outputs": [],
   "source": [
    "X_train = X_train_[training_announce == 1]\n",
    "y_train = y_train_[training_announce == 1]\n",
    "\n",
    "X_test = X_test_[testing_announce == 1]\n",
    "y_test = y_test_[testing_announce == 1]"
   ]
  },
  {
   "cell_type": "markdown",
   "metadata": {},
   "source": [
    "### Magical rescaling"
   ]
  },
  {
   "cell_type": "code",
   "execution_count": 12,
   "metadata": {},
   "outputs": [],
   "source": [
    "X_train[:,:,0] = 0.1 * np.log10(1e4*X_train[:,:,0]**3 + 1e-10) + 1\n",
    "X_train[:,:,2] = 0.1 * np.log10(1e4*X_train[:,:,2]**5 + 1e-10) + 1\n",
    "X_train[:,:,3] = 0.1 * np.log10(1e4*X_train[:,:,3]**2 + 1e-10) + 1\n",
    "X_train[:,:,6] = 0.1 * np.log10(1e0*X_train[:,:,6]**3 + 1e-10) + 1\n",
    "X_train[:,:,7] = 0.1 * np.log10(1e8*X_train[:,:,7]**5 + 1e-10) + 1\n",
    "X_train[:,:,8] = 0.1 * np.log10(1e8*X_train[:,:,8]**3 + 1e-10) + 1\n",
    "X_train[:,:,9] = 0.1 * np.log10(1e8*X_train[:,:,9]**6 + 1e-10) + 1\n",
    "X_train[:,:,10] = 0.1 * np.log10(1e8*X_train[:,:,10]**2 + 1e-10) + 1\n",
    "X_train[:,:,12] = 0.1 * np.log10(1e9*X_train[:,:,12]**3 + 1e-10) + 1\n",
    "X_train[:,:,13] = 0.1 * np.log10(1e9*X_train[:,:,13]**5 + 1e-10) + 1\n",
    "X_train[:,:,14] = 0.1 * np.log10(1e9*X_train[:,:,14]**3.5 + 1e-10) + 1\n",
    "X_train[:,:,15] = 0.1 * np.log10(1e9*X_train[:,:,15]**6 + 1e-10) + 1\n",
    "X_train[:,:,16] = 0.1 * np.log10(1e15*X_train[:,:,16]**3 + 1e-10) + 1\n",
    "X_train[:,:,18] = 0.1 * np.log10(1e15*X_train[:,:,18]**4 + 1e-10) + 1\n",
    "X_train[:,:,20] = 0.1 * np.log10(1e10*X_train[:,:,20]**8 + 1e-10) + 1\n",
    "X_train[:,:,21] = 0.1 * np.log10(1e8*X_train[:,:,21]**3 + 1e-10) + 1\n",
    "X_train[:,:,22] = 0.1 * np.log10(1e20*X_train[:,:,22]**4 + 1e-10) + 1\n",
    "X_train[:,:,23] = 0.1 * np.log10(1e20*X_train[:,:,23]**4 + 1e-10) + 1\n",
    "X_train[:,:,24] = 0.1 * np.log10(1e10*X_train[:,:,24]**5 + 1e-10) + 1\n",
    "X_train[:,:,26] = 0.1 * np.log10(1e10*X_train[:,:,26]**7 + 1e-10) + 1\n",
    "X_train[:,:,27] = 0.1 * np.log10(1e10*X_train[:,:,27]**3 + 1e-10) + 1\n",
    "X_train[:,:,29] = 0.1 * np.log10(1e10*X_train[:,:,29]**7 + 1e-10) + 1\n",
    "X_train[:,:,30] = 0.1 * np.log10(1e10*X_train[:,:,30]**3 + 1e-10) + 1\n",
    "X_train[:,:,32] = 0.1 * np.log10(1e10*X_train[:,:,32]**3 + 1e-10) + 1\n",
    "X_train[:,:,33] = 0.1 * np.log10(1e10*X_train[:,:,33]**2.5 + 1e-10) + 1\n",
    "X_train[:,:,34] = 0.1 * np.log10(1e10*X_train[:,:,34]**3 + 1e-10) + 1\n",
    "X_train[:,:,35] = 0.1 * np.log10(1e20*X_train[:,:,35]**4 + 1e-10) + 1\n",
    "X_train[:,:,36] = 0.1 * np.log10(1e18*X_train[:,:,36]**5 + 1e-10) + 1\n",
    "X_train[:,:,37] = 0.1 * np.log10(1e20*X_train[:,:,37]**4 + 1e-10) + 1\n",
    "X_train[:,:,38] = 0.1 * np.log10(1e20*X_train[:,:,38]**3 + 1e-10) + 1\n",
    "X_train[:,:,39] = 0.1 * np.log10(1e20*X_train[:,:,39]**3 + 1e-10) + 1\n",
    "X_train[:,:,40] = 0.1 * np.log10(1e20*X_train[:,:,40]**3 + 1e-10) + 1\n",
    "X_train[:,:,41] = 0.1 * np.log10(1e20*X_train[:,:,41]**3 + 1e-10) + 1\n",
    "X_train[:,:,42] = 0.1 * np.log10(1e20*X_train[:,:,42]**3 + 1e-10) + 1\n",
    "X_train[:,:,43] = 0.1 * np.log10(1e20*X_train[:,:,43]**3 + 1e-10) + 1\n",
    "X_train[:,:,44] = 0.1 * np.log10(1e20*X_train[:,:,44]**3 + 1e-10) + 1\n",
    "X_train[:,:,45] = 0.1 * np.log10(1e20*X_train[:,:,45]**3 + 1e-10) + 1\n",
    "X_train[:,:,46] = 0.1 * np.log10(1e20*X_train[:,:,46]**3 + 1e-10) + 1\n",
    "X_train[:,:,47] = 0.1 * np.log10(1e20*X_train[:,:,47]**3 + 1e-10) + 1\n",
    "X_train[:,:,51] = 0.1 * np.log10(1e20*X_train[:,:,51]**3 + 1e-10) + 1\n",
    "X_train[:,:,52] = 0.1 * np.log10(1e20*X_train[:,:,52]**3 + 1e-10) + 1\n",
    "X_train[:,:,53] = 0.1 * np.log10(1e20*X_train[:,:,53]**3 + 1e-10) + 1\n",
    "X_train[:,:,54] = 0.1 * np.log10(1e20*X_train[:,:,54]**3 + 1e-10) + 1\n",
    "X_train[:,:,57] = 0.1 * np.log10(1e20*X_train[:,:,57]**20 + 1e-10) + 1\n",
    "X_train[:,:,58] = 0.1 * np.log10(1e20*X_train[:,:,58]**10 + 1e-10) + 1\n",
    "X_train[:,:,59] = 0.1 * np.log10(1e20*X_train[:,:,59]**8 + 1e-10) + 1\n",
    "X_train[:,:,60] = 0.1 * np.log10(1e20*X_train[:,:,60]**6 + 1e-10) + 1\n",
    "X_train[:,:,61] = 0.1 * np.log10(1e20*X_train[:,:,61]**6 + 1e-10) + 1\n",
    "X_train[:,:,62] = 0.1 * np.log10(1e20*X_train[:,:,62]**5 + 1e-10) + 1\n",
    "X_train[:,:,63] = 0.1 * np.log10(1e20*X_train[:,:,63]**3 + 1e-10) + 1\n",
    "X_train[:,:,64] = 0.1 * np.log10(1e20*X_train[:,:,64]**3 + 1e-10) + 1\n",
    "X_train[:,:,65] = 0.1 * np.log10(1e20*X_train[:,:,65]**3 + 1e-10) + 1\n",
    "X_train[:,:,66] = 0.1 * np.log10(1e20*X_train[:,:,66]**3 + 1e-10) + 1\n",
    "X_train[:,:,67] = 0.1 * np.log10(1e20*X_train[:,:,67]**1.5 + 1e-10) + 1\n",
    "X_train[:,:,68] = 0.1 * np.log10(1e20*X_train[:,:,68]**1.5 + 1e-10) + 1\n",
    "X_train[:,:,69] = 0.1 * np.log10(1e20*X_train[:,:,69]**1.5 + 1e-10) + 1\n",
    "X_train[:,:,70] = 0.1 * np.log10(1e20*X_train[:,:,70]**1.5 + 1e-10) + 1\n",
    "X_train[:,:,71] = 0.1 * np.log10(1e20*X_train[:,:,71]**3 + 1e-10) + 1\n",
    "X_train[:,:,72] = 0.1 * np.log10(1e20*X_train[:,:,72]**3 + 1e-10) + 1\n",
    "X_train[:,:,73] = 0.1 * np.log10(1e20*X_train[:,:,73]**3 + 1e-10) + 1\n",
    "X_train[:,:,74] = 0.1 * np.log10(1e20*X_train[:,:,74]**3 + 1e-10) + 1\n",
    "X_train[:,:,75] = 0.1 * np.log10(1e20*X_train[:,:,75]**3 + 1e-10) + 1\n",
    "X_train[:,:,76] = 0.1 * np.log10(1e20*X_train[:,:,76]**3 + 1e-10) + 1\n",
    "X_train[:,:,77] = 0.1 * np.log10(1e15*X_train[:,:,77]**8 + 1e-10) + 1\n",
    "X_train[:,:,78] = 0.1 * np.log10(1e15*X_train[:,:,78]**8 + 1e-10) + 1\n",
    "X_train[:,:,79] = 0.1 * np.log10(1e20*X_train[:,:,79]**5 + 1e-10) + 1\n",
    "X_train[:,:,80] = 0.1 * np.log10(1e20*X_train[:,:,80]**6 + 1e-10) + 1\n",
    "X_train[:,:,81] = 0.1 * np.log10(1e20*X_train[:,:,81]**8 + 1e-10) + 1\n",
    "X_train[:,:,82] = 0.1 * np.log10(1e20*X_train[:,:,82]**10 + 1e-10) + 1\n",
    "X_train[:,:,83] = 0.1 * np.log10(1e20*X_train[:,:,83]**9.5 + 1e-10) + 1\n",
    "X_train[:,:,84] = 0.1 * np.log10(1e20*X_train[:,:,84]**9.5 + 1e-10) + 1\n",
    "X_train[:,:,85] = 0.1 * np.log10(1e20*X_train[:,:,85]**3 + 1e-10) + 1\n",
    "X_train[:,:,86] = 0.1 * np.log10(1e20*X_train[:,:,86]**13 + 1e-10) + 1\n",
    "X_train[:,:,87] = 0.1 * np.log10(1e20*X_train[:,:,87]**10 + 1e-10) + 1\n",
    "X_train[:,:,88] = 0.1 * np.log10(1e20*X_train[:,:,88]**9 + 1e-10) + 1\n",
    "X_train[:,:,89] = 0.1 * np.log10(1e20*X_train[:,:,89]**8 + 1e-10) + 1\n",
    "X_train[:,:,91] = X_train[:,:,91] ** 5\n",
    "X_train[:,:,93] = X_train[:,:,93] ** 2\n",
    "X_train[:,:,94] = X_train[:,:,94] ** 2\n",
    "X_train[:,:,96] = 0.1 * np.log10(1e20*X_train[:,:,96]**4 + 1e-10) + 1\n",
    "X_train[:,:,97] = 0.1 * np.log10(1e20*X_train[:,:,97]**9 + 1e-10) + 1\n",
    "X_train[:,:,98] = 0.1 * np.log10(1e20*X_train[:,:,98]**8 + 1e-10) + 1\n",
    "X_train[:,:,99] = 0.1 * np.log10(1e20*X_train[:,:,99]**7 + 1e-10) + 1\n",
    "X_train[:,:,100] = 0.1 * np.log10(1e20*X_train[:,:,100]**7 + 1e-10) + 1\n",
    "X_train[:,:,101] = 0.1 * np.log10(1e20*X_train[:,:,101]**5 + 1e-10) + 1\n",
    "X_train[:,:,102] = 0.1 * np.log10(1e20*X_train[:,:,102]**4 + 1e-10) + 1\n",
    "X_train[:,:,103] = 0.1 * np.log10(1e20*X_train[:,:,103]**4 + 1e-10) + 1\n",
    "X_train[:,:,104] = 0.1 * np.log10(1e20*X_train[:,:,104]**10 + 1e-10) + 1\n",
    "X_train[:,:,106] = 0.1 * np.log10(1e20*X_train[:,:,106]**4 + 1e-10) + 1\n",
    "X_train[:,:,107] = 0.1 * np.log10(1e20*X_train[:,:,107]**8 + 1e-10) + 1\n",
    "X_train[:,:,108] = 0.1 * np.log10(1e20*X_train[:,:,108]**7 + 1e-10) + 1\n",
    "X_train[:,:,109] = 0.1 * np.log10(1e20*X_train[:,:,109]**7 + 1e-10) + 1\n",
    "X_train[:,:,110] = 0.1 * np.log10(1e20*X_train[:,:,110]**7 + 1e-10) + 1\n",
    "X_train[:,:,111] = 0.1 * np.log10(1e20*X_train[:,:,111]**6 + 1e-10) + 1\n",
    "X_train[:,:,112] = 0.1 * np.log10(1e20*X_train[:,:,112]**5 + 1e-10) + 1\n",
    "X_train[:,:,113] = 0.1 * np.log10(1e20*X_train[:,:,113]**5 + 1e-10) + 1\n",
    "X_train[:,:,114] = 0.1 * np.log10(1e20*X_train[:,:,114]**8 + 1e-10) + 1\n",
    "X_train[:,:,115] = 0.1 * np.log10(1e20*X_train[:,:,115]**7 + 1e-10) + 1\n",
    "X_train[:,:,116] = 0.1 * np.log10(1e20*X_train[:,:,116]**6 + 1e-10) + 1\n",
    "X_train[:,:,117] = 0.1 * np.log10(1e20*X_train[:,:,117]**6 + 1e-10) + 1\n",
    "X_train[:,:,118] = 0.1 * np.log10(1e20*X_train[:,:,118]**5.5 + 1e-10) + 1\n",
    "X_train[:,:,119] = 0.1 * np.log10(1e20*X_train[:,:,119]**4 + 1e-10) + 1\n",
    "X_train[:,:,124] = 0.1 * np.log10(1e20*X_train[:,:,124]**6 + 1e-10) + 1\n",
    "X_train[:,:,125] = 0.1 * np.log10(1e20*X_train[:,:,125]**7.5 + 1e-10) + 1\n",
    "X_train[:,:,126] = 0.1 * np.log10(1e20*X_train[:,:,126]**11 + 1e-10) + 1\n",
    "X_train[:,:,127] = 0.1 * np.log10(1e20*X_train[:,:,127]**8 + 1e-10) + 1\n",
    "X_train[:,:,128] = 0.1 * np.log10(1e20*X_train[:,:,128]**8 + 1e-10) + 1\n",
    "X_train[:,:,129] = 0.1 * np.log10(1e20*X_train[:,:,129]**8 + 1e-10) + 1\n",
    "X_train[:,:,130] = 0.1 * np.log10(1e20*X_train[:,:,130]**8 + 1e-10) + 1\n",
    "X_train[:,:,132] = 0.1 * np.log10(1e12*X_train[:,:,132]**12 + 1e-10) + 1\n",
    "X_train[:,:,133] = 0.1 * np.log10(1e20*X_train[:,:,133]**5.5 + 1e-10) + 1\n",
    "X_train[:,:,140] = 0.1 * np.log10(1e20*X_train[:,:,140]**4 + 1e-10) + 1\n",
    "X_train[:,:,141] = 0.1 * np.log10(1e20*X_train[:,:,141]**4 + 1e-10) + 1\n",
    "X_train[:,:,142] = 0.1 * np.log10(1e20*X_train[:,:,142]**4 + 1e-10) + 1\n",
    "X_train[:,:,143] = 0.1 * np.log10(1e20*X_train[:,:,143]**4 + 1e-10) + 1\n",
    "X_train[:,:,144] = 0.1 * np.log10(1e20*X_train[:,:,144]**10 + 1e-10) + 1\n",
    "X_train[:,:,146] = 0.1 * np.log10(1e20*X_train[:,:,146]**10 + 1e-10) + 1\n",
    "X_train[:,:,147] = 0.1 * np.log10(1e20*X_train[:,:,147]**9 + 1e-10) + 1\n",
    "X_train[:,:,148] = 0.1 * np.log10(1e20*X_train[:,:,148]**8.5 + 1e-10) + 1\n",
    "X_train[:,:,149] = 0.1 * np.log10(1e20*X_train[:,:,149]**9 + 1e-10) + 1\n",
    "X_train[:,:,150] = 0.1 * np.log10(1e20*X_train[:,:,150]**7.5 + 1e-10) + 1\n",
    "X_train[:,:,151] = 0.1 * np.log10(1e20*X_train[:,:,151]**12 + 1e-10) + 1\n",
    "X_train[:,:,152] = 0.1 * np.log10(1e20*X_train[:,:,152]**20 + 1e-10) + 1\n",
    "X_train[:,:,153] = 0.1 * np.log10(1e20*X_train[:,:,153]**11 + 1e-10) + 1\n",
    "X_train[:,:,154] = 0.1 * np.log10(1e20*X_train[:,:,154]**20 + 1e-10) + 1\n",
    "X_train[:,:,155] = 0.1 * np.log10(1e20*X_train[:,:,155]**16 + 1e-10) + 1\n",
    "X_train[:,:,156] = 0.1 * np.log10(1e20*X_train[:,:,156]**10 + 1e-10) + 1\n",
    "X_train[:,:,157] = 0.1 * np.log10(1e20*X_train[:,:,157]**11 + 1e-10) + 1\n",
    "X_train[:,:,158] = 0.1 * np.log10(1e20*X_train[:,:,158]**9 + 1e-10) + 1\n",
    "X_train[:,:,159] = 0.1 * np.log10(1e20*X_train[:,:,159]**3.5 + 1e-10) + 1\n",
    "X_train[:,:,160] = 0.1 * np.log10(1e20*X_train[:,:,160]**11 + 1e-10) + 1\n",
    "X_train[:,:,166] = 0.1 * np.log10(1e20*X_train[:,:,166]**11 + 1e-10) + 1\n",
    "X_train[:,:,168] = 0.1 * np.log10(1e20*X_train[:,:,168]**14 + 1e-10) + 1\n",
    "X_train[:,:,173] = 0.1 * np.log10(1e30*X_train[:,:,173]**7 + 1e-10) + 1\n",
    "X_train[:,:,174] = 0.1 * np.log10(1e30*X_train[:,:,174]**4 + 1e-10) + 1\n",
    "X_train[:,:,178] = 0.1 * np.log10(1e30*X_train[:,:,178]**4 + 1e-10) + 1\n",
    "X_train[:,:,179] = 0.1 * np.log10(1e30*X_train[:,:,179]**4 + 1e-10) + 1\n",
    "X_train[:,:,181] = 0.1 * np.log10(1e30*X_train[:,:,181]**7 + 1e-10) + 1\n",
    "X_train[:,:,182] = 0.1 * np.log10(1e30*X_train[:,:,182]**2 + 1e-10) + 1\n",
    "X_train[:,:,183] = 0.1 * np.log10(1e30*X_train[:,:,183]**2 + 1e-10) + 1\n",
    "X_train[:,:,185] = 0.1 * np.log10(1e30*X_train[:,:,185]**2 + 1e-10) + 1\n",
    "X_train[:,:,186] = 0.1 * np.log10(1e30*X_train[:,:,186]**2 + 1e-10) + 1\n",
    "X_train[:,:,187] = 0.1 * np.log10(1e30*X_train[:,:,187]**2 + 1e-10) + 1\n",
    "X_train[:,:,190] = 0.1 * np.log10(1e10*X_train[:,:,190]**4 + 1e-10) + 1\n",
    "X_train[:,:,191] = 0.1 * np.log10(1e20*X_train[:,:,191]**6 + 1e-10) + 1\n",
    "X_train[:,:,192] = 0.1 * np.log10(1e20*X_train[:,:,192]**4 + 1e-10) + 1\n",
    "X_train[:,:,195] = 0.1 * np.log10(1e20*X_train[:,:,195]**4 + 1e-10) + 1\n",
    "X_train[:,:,196] = 0.1 * np.log10(1e20*X_train[:,:,196]**6 + 1e-10) + 1\n",
    "X_train[:,:,197] = 0.1 * np.log10(1e20*X_train[:,:,197]**4 + 1e-10) + 1\n",
    "X_train[:,:,198] = 0.1 * np.log10(1e20*X_train[:,:,198]**6 + 1e-10) + 1\n",
    "X_train[:,:,200] = 0.1 * np.log10(1e20*X_train[:,:,200]**6 + 1e-10) + 1\n",
    "X_train[:,:,201] = 0.1 * np.log10(1e20*X_train[:,:,201]**5 + 1e-10) + 1\n",
    "X_train[:,:,202] = 0.1 * np.log10(1e20*X_train[:,:,202]**5 + 1e-10) + 1\n",
    "X_train[:,:,203] = 0.1 * np.log10(1e20*X_train[:,:,203]**5 + 1e-10) + 1\n",
    "X_train[:,:,204] = 0.1 * np.log10(1e30*X_train[:,:,204]**3 + 1e-10) + 1\n",
    "X_train[:,:,205] = 0.1 * np.log10(1e30*X_train[:,:,205]**3 + 1e-10) + 1\n",
    "X_train[:,:,206] = 0.1 * np.log10(1e20*X_train[:,:,206]**7 + 1e-10) + 1\n",
    "X_train[:,:,207] = 0.1 * np.log10(1e30*X_train[:,:,207]**2 + 1e-10) + 1\n",
    "X_train[:,:,208] = 0.1 * np.log10(1e30*X_train[:,:,208]**2 + 1e-10) + 1\n",
    "X_train[:,:,209] = 0.1 * np.log10(1e30*X_train[:,:,209]**2 + 1e-10) + 1\n",
    "X_train[:,:,213] = 0.1 * np.log10(1e30*X_train[:,:,213]**2 + 1e-10) + 1\n",
    "X_train[:,:,214] = 0.1 * np.log10(1e7*X_train[:,:,214]**2 + 1e-10) + 1\n",
    "X_train[:,:,215] = 0.1 * np.log10(1e15*X_train[:,:,215]**2 + 1e-10) + 1\n",
    "X_train[:,:,216] = 0.1 * np.log10(1e15*X_train[:,:,216]**2 + 1e-10) + 1\n",
    "X_train[:,:,217] = 0.1 * np.log10(1e15*X_train[:,:,217]**2 + 1e-10) + 1\n",
    "X_train[:,:,218] = 0.1 * np.log10(1e15*X_train[:,:,218]**2 + 1e-10) + 1\n",
    "X_train[:,:,220] = 0.1 * np.log10(1e15*X_train[:,:,220]**2 + 1e-10) + 1"
   ]
  },
  {
   "cell_type": "code",
   "execution_count": 13,
   "metadata": {},
   "outputs": [],
   "source": [
    "## Get Feat\n",
    "X_train = np.dstack([X_train[:,:,:314], X_train[:,:,-14:]])\n",
    "X_test = np.dstack([X_test[:,:,:314], X_test[:,:,-14:]])"
   ]
  },
  {
   "cell_type": "code",
   "execution_count": 14,
   "metadata": {},
   "outputs": [
    {
     "data": {
      "text/plain": [
       "((2355, 4, 328), (2250, 4, 328))"
      ]
     },
     "execution_count": 14,
     "metadata": {},
     "output_type": "execute_result"
    }
   ],
   "source": [
    "X_train.shape, X_test.shape"
   ]
  },
  {
   "cell_type": "markdown",
   "metadata": {},
   "source": [
    "### Converting Numpy tensor into PyTorch tensor"
   ]
  },
  {
   "cell_type": "code",
   "execution_count": 15,
   "metadata": {},
   "outputs": [],
   "source": [
    "X_train = torch.FloatTensor(X_train)\n",
    "X_test = torch.FloatTensor(X_test)\n",
    "y_train = torch.FloatTensor(y_train)\n",
    "y_test = torch.FloatTensor(y_test)\n",
    "\n",
    "train_data = []\n",
    "for i in range(len(X_train)):\n",
    "    train_data.append((X_train[i], y_train[i]))\n",
    "    \n",
    "test_data = []\n",
    "for i in range(len(X_test)):\n",
    "    test_data.append((X_test[i], y_test[i]))\n",
    "\n",
    "train_dataloader = DataLoader(train_data, shuffle=True, batch_size=train_batch_size)\n",
    "test_dataloader = DataLoader(test_data, shuffle=False, batch_size=test_batch_size)"
   ]
  },
  {
   "cell_type": "code",
   "execution_count": 16,
   "metadata": {},
   "outputs": [],
   "source": [
    "# classifier = ConvNet(in_dim=X_train.shape[2], out_dim=2).cuda()\n",
    "\n",
    "# classifier = GRU(in_dim=X_train.shape[2], out_dim=2).cuda()\n",
    "# classifier.apply(weight_init)\n",
    "# focal_loss = FocalLoss2(alpha, gamma_pos, gamma_neg)\n",
    "# if optim == \"adam\":\n",
    "#     optim_clsfr = optim.Adam(filter(lambda p: p.requires_grad, classifier.parameters()), \n",
    "#                              lr=learn_rate)\n",
    "# else:\n",
    "#     optim_clsfr = RangerLars(filter(lambda p: p.requires_grad, classifier.parameters()),\n",
    "#                              lr=learn_rate)"
   ]
  },
  {
   "cell_type": "markdown",
   "metadata": {},
   "source": [
    "### Predict"
   ]
  },
  {
   "cell_type": "code",
   "execution_count": 17,
   "metadata": {},
   "outputs": [],
   "source": [
    "import matplotlib.pyplot as plt"
   ]
  },
  {
   "cell_type": "code",
   "execution_count": 27,
   "metadata": {},
   "outputs": [],
   "source": [
    "def plotting(pred_y_list, label_list, save_path=False, stat='Train'):\n",
    "    ###########################################################\n",
    "    plt.ylabel('Log Count')\n",
    "    plt.xlabel('Score')\n",
    "    plt.yscale('log')\n",
    "    \n",
    "    ax = plt.gca()\n",
    "    ax.spines['right'].set_color('none')\n",
    "    ax.spines['top'].set_color('none')\n",
    "    ax.spines['left'].set_color('none')\n",
    "    ax.spines['bottom'].set_color('none')\n",
    "    \n",
    "    MIN = 0.4\n",
    "    MAX = 0.6\n",
    "    BIN = 100\n",
    "    plt.grid(color = '#9999CC')\n",
    "    plt.hist(pred_y_list[np.where(label_list == 0)], \n",
    "             bins=[n/(10*BIN) for n in range(int(10*MIN)*BIN, int(10*MAX)*BIN)], \n",
    "             label='Negative',\n",
    "             color='#598987')\n",
    "    plt.hist(pred_y_list[np.where(label_list == 1)], \n",
    "             bins=[n/(10*BIN) for n in range(int(10*MIN)*BIN, int(10*MAX)*BIN)], \n",
    "             label='Positive', \n",
    "             color='#FFD000')\n",
    "    plt.legend(loc='upper right')\n",
    "    if save_path:\n",
    "        plt.savefig(\"result/{}_{}.jpg\".format(save_path, stat), dpi=1000, quality=100)\n",
    "    plt.show()"
   ]
  },
  {
   "cell_type": "code",
   "execution_count": 28,
   "metadata": {},
   "outputs": [],
   "source": [
    "def func(PATH, save_path=False):\n",
    "    # optimizer = optim.Adam(filter(lambda p: p.requires_grad, classifier.parameters()), lr=learn_rate)\n",
    "\n",
    "    # model = GRU(in_dim=X_train.shape[2], out_dim=2).cuda()\n",
    "    model = ConvNet(fc_dims=[128, 64], in_dim=X_train.shape[2], out_dim=2).cuda()\n",
    "    checkpoint = torch.load(PATH)\n",
    "    model.load_state_dict(checkpoint['model_state_dict'])\n",
    "    # optimizer.load_state_dict(checkpoint['optimizer_state_dict'])\n",
    "    epoch = checkpoint['epoch']\n",
    "    loss = checkpoint['loss']\n",
    "\n",
    "    model.eval()\n",
    "    \n",
    "    ##### Training #####\n",
    "    Training_label_list = []\n",
    "    Training_pred_y_list = []\n",
    "\n",
    "    for batch_idx, (data, target) in tqdm_notebook(enumerate(train_dataloader)):\n",
    "        if data.size()[0] != train_dataloader.batch_size:\n",
    "            continue\n",
    "        data, target = Variable(data.cuda()), Variable(target.cuda())\n",
    "        # Update classifier\n",
    "\n",
    "        # pred_y = model(data).squeeze(-1)\n",
    "        # pred_y = torch.nn.functional.softmax(pred_y, dim=1)[:, 1]\n",
    "        \n",
    "        Training_pred_y = model(data.permute(0, 2, 1)).squeeze(-1)     # for Conv1D\n",
    "        Training_pred_y = torch.nn.functional.softmax(Training_pred_y, dim=1)[:, 1]\n",
    "\n",
    "        Training_label_list += list(target.cpu().detach().numpy())\n",
    "        Training_pred_y_list += list(Training_pred_y.cpu().detach().numpy())\n",
    "    \n",
    "    \n",
    "    Training_label_list = np.array(Training_label_list)\n",
    "    Training_pred_y_list = np.array(Training_pred_y_list)\n",
    "    auc_train = roc_auc_score(Training_label_list, Training_pred_y_list)\n",
    "    \n",
    "    ##### Testing #####\n",
    "    Testing_label_list = []\n",
    "    Testing_pred_y_list = []\n",
    "    for batch_idx, (data, target) in tqdm_notebook(enumerate(test_dataloader)):\n",
    "        if data.size()[0] != test_dataloader.batch_size:\n",
    "            continue\n",
    "        data, target = Variable(data.cuda()), Variable(target.cuda())\n",
    "        # Update classifier\n",
    "\n",
    "        # pred_y = model(data).squeeze(-1)\n",
    "        # pred_y = torch.nn.functional.softmax(pred_y, dim=1)[:, 1]\n",
    "        \n",
    "        Testing_pred_y = model(data.permute(0, 2, 1)).squeeze(-1)     # for Conv1D\n",
    "        Testing_pred_y = torch.nn.functional.softmax(Testing_pred_y, dim=1)[:, 1]\n",
    "\n",
    "        Testing_label_list += list(target.cpu().detach().numpy())\n",
    "        Testing_pred_y_list += list(Testing_pred_y.cpu().detach().numpy())\n",
    "    \n",
    "    Testing_label_list = np.array(Testing_label_list)\n",
    "    Testing_pred_y_list = np.array(Testing_pred_y_list)\n",
    "    auc_test = roc_auc_score(Testing_label_list, Testing_pred_y_list)\n",
    "    \n",
    "    ### Performance \n",
    "    ratio = .05\n",
    "    thres1 = np.min(Training_pred_y_list[np.where(Training_label_list == 1)])\n",
    "    thres2 = sorted(Testing_pred_y_list, reverse=True)[int(Testing_label_list.sum() + int(len(Testing_label_list)*ratio))]\n",
    "    \n",
    "    # thres2 = np.min(Testing_pred_y_list[np.where(y_test == 1)])\n",
    "    # thres3 = (8*thres1+2*thres2)/10 \n",
    "    # cut1, cut2 = thres1, thres2\n",
    "    \n",
    "    print ('Cut1: {}'.format(thres1))\n",
    "    print ('Cut2: {}'.format(thres2))\n",
    "\n",
    "    print(\"Recall of Training = 1 : {}\".format(thres1 > np.min(Training_pred_y_list)))\n",
    "    print('Training => auc: {:.6f}'.format(auc_train))\n",
    "    print (\"Training Treshold: {}\".format(thres1))\n",
    "    \n",
    "    y_predict_bin = np.array(Training_pred_y_list >= thres1, dtype=int)\n",
    "    prec_train, recall_train, f1_train = evaluate(Training_label_list, y_predict_bin)\n",
    "    print('prec: {:.4f}, rec: {:.4f}, F1score: {:.4f}'.format(prec_train, recall_train, f1_train))\n",
    "    print (\"Total Positve: {}\".format(int(sum(Training_label_list))))\n",
    "    num_cand = np.sum(Training_pred_y_list >= thres1)\n",
    "    print (\"Total Candidate: {}\".format(num_cand))\n",
    "    print('----------------------------------------------')\n",
    "    \n",
    "    ## High Risk\n",
    "    print(\"High Risk Positve: {}\".format(np.sum(Training_label_list[Training_pred_y_list >= thres1])))\n",
    "    print(\"High Risk Candidate: {}\".format(np.sum(Training_pred_y_list >= thres1)))\n",
    "    print(\"High Risk Prec: {}\".format(np.sum(Training_label_list[np.where(Training_pred_y_list >= thres1)])/\\\n",
    "                                      np.sum(Training_pred_y_list >= thres1)))\n",
    "    print('----------------------------------------------')\n",
    "    ## Medium Risk\n",
    "    print(\"Medium Risk Positve: {}\".format(np.sum(Training_label_list[(Training_pred_y_list < thres1) &\\\n",
    "                                                                     (Training_pred_y_list >= thres2)])))\n",
    "    print(\"Medium Risk Candidate: {}\".format(np.sum((Training_pred_y_list < thres1) &\\\n",
    "                                                    (Training_pred_y_list >= thres2))))\n",
    "    print(\"Medium Risk Prec: {}\".format(np.sum(Training_label_list[np.where((Training_pred_y_list < thres1) &\\\n",
    "                                                                           (Training_pred_y_list >= thres2))])/\\\n",
    "                                                             np.sum((Training_pred_y_list < thres1) &\\\n",
    "                                                                    (Training_pred_y_list >= thres2))))\n",
    "    \n",
    "    plotting(Training_pred_y_list, Training_label_list, save_path)\n",
    "#     pd.DataFrame([Training_pred_y_list, Training_label_list, training_announce.tolist()], \n",
    "#                  index=['score', 'label', 'annouce']).T.to_csv('result/Training_result.csv', index=None)\n",
    "    ####　----------------------------------------------\n",
    "    print(\"Recall of Testing = 1 : {}\".format(thres2 <= np.min(Testing_pred_y_list[Testing_label_list == 1])))\n",
    "    print('Testing => auc: {:.6f}'.format(auc_test))\n",
    "    print(\"Threshold is set to {}\".format(thres2))\n",
    "    \n",
    "    y_predict_bin = np.array(Testing_pred_y_list >= thres2, dtype=int)\n",
    "    prec_test, recall_test, f1_test = evaluate(Testing_label_list, y_predict_bin)\n",
    "    print('prec: {:.4f}, rec: {:.4f}, F1score: {:.4f}'.format(prec_test, recall_test, f1_test))\n",
    "    print (\"Total Positve: {}\".format(int(sum(Testing_label_list))))\n",
    "    print(\"Total Candidate: {}\".format(np.sum(Testing_pred_y_list >= thres2)))\n",
    "    print('----------------------------------------------')\n",
    "    \n",
    "    ## High Risk\n",
    "    print(\"High Risk Positve: {}\".format(np.sum(Testing_label_list[Testing_pred_y_list >= thres1])))\n",
    "    print(\"High Risk Candidate: {}\".format(np.sum(Testing_pred_y_list >= thres1)))\n",
    "    print(\"High Risk Prec: {}\".format(np.sum(Testing_label_list[np.where(Testing_pred_y_list >= thres1)])/\\\n",
    "                                      np.sum(Testing_pred_y_list >= thres1)))\n",
    "    print('----------------------------------------------')\n",
    "    ## Medium Risk\n",
    "    print(\"Medium Risk Positve: {}\".format(np.sum(Testing_label_list[(Testing_pred_y_list < thres1) &\\\n",
    "                                                                     (Testing_pred_y_list >= thres2)])))\n",
    "    print(\"Medium Risk Candidate: {}\".format(np.sum((Testing_pred_y_list < thres1) &\\\n",
    "                                                    (Testing_pred_y_list >= thres2))))\n",
    "    print(\"Medium Risk Prec: {}\".format(np.sum(Testing_label_list[np.where((Testing_pred_y_list < thres1) &\\\n",
    "                                                                           (Testing_pred_y_list >= thres2))])/\\\n",
    "                                                             np.sum((Testing_pred_y_list < thres1) &\\\n",
    "                                                                    (Testing_pred_y_list >= thres2))))\n",
    "\n",
    "    \n",
    "    plotting(Testing_pred_y_list, Testing_label_list, save_path, stat='Test')\n",
    "#     pd.DataFrame([Testing_pred_y_list, Testing_label_list, testing_announce.tolist()], \n",
    "#                  index=['score', 'label', 'annouce']).T.to_csv('result/Testing_result.csv', index=None)\n",
    "    return Training_label_list, Training_pred_y_list, Testing_label_list, Testing_pred_y_list"
   ]
  },
  {
   "cell_type": "code",
   "execution_count": 29,
   "metadata": {},
   "outputs": [
    {
     "name": "stdout",
     "output_type": "stream",
     "text": [
      "conv_dim = [328, 656, 328]\n",
      "fc_dim = [328/0.9, 128/0.8, 64/0.8, 2]\n"
     ]
    },
    {
     "data": {
      "application/vnd.jupyter.widget-view+json": {
       "model_id": "96d6584749964973966176edf80d9436",
       "version_major": 2,
       "version_minor": 0
      },
      "text/plain": [
       "HBox(children=(FloatProgress(value=1.0, bar_style='info', max=1.0), HTML(value='')))"
      ]
     },
     "metadata": {},
     "output_type": "display_data"
    },
    {
     "name": "stdout",
     "output_type": "stream",
     "text": [
      "\n"
     ]
    },
    {
     "data": {
      "application/vnd.jupyter.widget-view+json": {
       "model_id": "8f5cbcca3e7345499ea158bf1d3e8005",
       "version_major": 2,
       "version_minor": 0
      },
      "text/plain": [
       "HBox(children=(FloatProgress(value=1.0, bar_style='info', max=1.0), HTML(value='')))"
      ]
     },
     "metadata": {},
     "output_type": "display_data"
    },
    {
     "name": "stdout",
     "output_type": "stream",
     "text": [
      "\n",
      "Cut1: 0.5233184695243835\n",
      "Cut2: 0.4935992956161499\n",
      "Recall of Training = 1 : True\n",
      "Training => auc: 1.000000\n",
      "Training Treshold: 0.5233184695243835\n",
      "prec: 1.0000, rec: 1.0000, F1score: 1.0000\n",
      "Total Positve: 102\n",
      "Total Candidate: 102\n",
      "----------------------------------------------\n",
      "High Risk Positve: 102.0\n",
      "High Risk Candidate: 102\n",
      "High Risk Prec: 1.0\n",
      "----------------------------------------------\n",
      "Medium Risk Positve: 0.0\n",
      "Medium Risk Candidate: 0\n",
      "Medium Risk Prec: nan\n"
     ]
    },
    {
     "data": {
      "image/png": "[encoded data removed]",
      "text/plain": [
       "<Figure size 432x288 with 1 Axes>"
      ]
     },
     "metadata": {
      "needs_background": "light"
     },
     "output_type": "display_data"
    },
    {
     "name": "stdout",
     "output_type": "stream",
     "text": [
      "Recall of Testing = 1 : True\n",
      "Testing => auc: 0.981448\n",
      "Threshold is set to 0.4935992956161499\n",
      "prec: 0.1374, rec: 1.0000, F1score: 0.2416\n",
      "Total Positve: 18\n",
      "Total Candidate: 131\n",
      "----------------------------------------------\n",
      "High Risk Positve: 5.0\n",
      "High Risk Candidate: 17\n",
      "High Risk Prec: 0.29411764705882354\n",
      "----------------------------------------------\n",
      "Medium Risk Positve: 13.0\n",
      "Medium Risk Candidate: 114\n",
      "Medium Risk Prec: 0.11403508771929824\n"
     ]
    },
    {
     "data": {
      "image/png": "[encoded data removed]",
      "text/plain": [
       "<Figure size 432x288 with 1 Axes>"
      ]
     },
     "metadata": {
      "needs_background": "light"
     },
     "output_type": "display_data"
    }
   ],
   "source": [
    "PATH = '../../user_data/CloudMile/data/saved_models/Feat-ts-Conv1Dsmall_v2_eps-21_focal62_rlars_lr4_epoch1600_Part2_0.2647058823529412'\n",
    "Training_label_list, Training_pred_y_list, Testing_label_list, Testing_pred_y_list= func(PATH, 'Feat-ts-Golden-LastSoftmax')"
   ]
  },
  {
   "cell_type": "code",
   "execution_count": null,
   "metadata": {},
   "outputs": [],
   "source": []
  },
  {
   "cell_type": "code",
   "execution_count": null,
   "metadata": {},
   "outputs": [],
   "source": []
  }
 ],
 "metadata": {
  "kernelspec": {
   "display_name": "Python 3",
   "language": "python",
   "name": "python3"
  },
  "language_info": {
   "codemirror_mode": {
    "name": "ipython",
    "version": 3
   },
   "file_extension": ".py",
   "mimetype": "text/x-python",
   "name": "python",
   "nbconvert_exporter": "python",
   "pygments_lexer": "ipython3",
   "version": "3.6.10"
  }
 },
 "nbformat": 4,
 "nbformat_minor": 2
}
