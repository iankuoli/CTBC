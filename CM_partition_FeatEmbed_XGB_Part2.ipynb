{
 "cells": [
  {
   "cell_type": "code",
   "execution_count": 1,
   "metadata": {},
   "outputs": [],
   "source": [
    "import networkx as nx\n",
    "import pandas as pd\n",
    "import matplotlib as mpl\n",
    "import matplotlib.pyplot as plt\n",
    "import scipy\n",
    "import numpy as np\n",
    "import math\n",
    "import pickle\n",
    "from tqdm import tqdm_notebook\n",
    "from multiprocessing import Pool\n",
    "\n",
    "np.set_printoptions(suppress=True)\n",
    "pd.set_option('display.float_format', lambda x: '%.3f' % x)\n",
    "\n",
    "import warnings\n",
    "warnings.filterwarnings('ignore')\n",
    "\n",
    "from sklearn.model_selection import train_test_split\n",
    "from sklearn.metrics import precision_score, recall_score, f1_score, roc_auc_score\n",
    "\n",
    "import xgboost as xgb\n",
    "from xgboost.sklearn import XGBClassifier"
   ]
  },
  {
   "cell_type": "code",
   "execution_count": 2,
   "metadata": {},
   "outputs": [],
   "source": [
    "def evaluate(y_true, y_pred):\n",
    "    prec = precision_score(y_true, y_pred)\n",
    "    recall = recall_score(y_true, y_pred)\n",
    "    f1 = f1_score(y_true, y_pred)\n",
    "    return prec, recall, f1"
   ]
  },
  {
   "cell_type": "markdown",
   "metadata": {},
   "source": [
    "## Data Preparation"
   ]
  },
  {
   "cell_type": "code",
   "execution_count": 3,
   "metadata": {},
   "outputs": [],
   "source": [
    "training_date  = [(2018, 7), (2018, 8),(2018, 9),(2018, 10),(2018, 11), (2018, 12)]\n",
    "\n",
    "testing_date   = [(2019, 1),(2019, 2),(2019, 3),(2019, 4),(2019, 5),(2019, 6)]\n",
    "\n",
    "train_data= [np.load('../../user_data/CloudMile/data/data_{}_{}.npz'.format(year, month), \n",
    "                     allow_pickle=True) \n",
    "             for year, month in training_date]\n",
    "\n",
    "test_data= [np.load('../../user_data/CloudMile/data/data_{}_{}.npz'.format(year,  month), \n",
    "                    allow_pickle=True) \n",
    "            for year, month in testing_date]\n",
    "\n",
    "X_train = np.concatenate([data['arr_0'] for data in train_data])\n",
    "y_train = np.concatenate([data['arr_1'] for data in train_data])\n",
    "training_announce = np.concatenate([data['arr_2'] for data in train_data])\n",
    "training_FILTER = np.concatenate([data['arr_3'] for data in train_data])\n",
    "\n",
    "X_test = np.concatenate([data['arr_0'] for data in test_data])\n",
    "y_test = np.concatenate([data['arr_1'] for data in test_data])\n",
    "testing_announce = np.concatenate([data['arr_2'] for data in test_data])\n",
    "testing_FILTER = np.concatenate([data['arr_3'] for data in test_data])"
   ]
  },
  {
   "cell_type": "code",
   "execution_count": 4,
   "metadata": {},
   "outputs": [],
   "source": [
    "X_train = X_train[:,0,:]\n",
    "X_test = X_test[:,0,:]\n",
    "\n",
    "# X_train = np.hstack([X_train[:,:314], X_train[:,-14:]])\n",
    "# X_test = np.hstack([X_test[:,:314], X_test[:,-14:]])"
   ]
  },
  {
   "cell_type": "code",
   "execution_count": 5,
   "metadata": {},
   "outputs": [],
   "source": [
    "### Announce Extract\n",
    "X_train = X_train[training_announce == 1]\n",
    "y_train = y_train[training_announce == 1]\n",
    "\n",
    "X_test = X_test[testing_announce == 1]\n",
    "y_test = y_test[testing_announce == 1]"
   ]
  },
  {
   "cell_type": "code",
   "execution_count": 6,
   "metadata": {},
   "outputs": [],
   "source": [
    "clf = XGBClassifier(n_estimators=100,\n",
    "                    learning_rate= 0.1,     \n",
    "                    max_depth=5, \n",
    "                    subsample=1,\n",
    "                    gamma=0, \n",
    "                    reg_lambda=1, \n",
    "                    max_delta_step=0,\n",
    "                    colsample_bytree=1, \n",
    "                    min_child_weight=1, \n",
    "                    seed=1000)"
   ]
  },
  {
   "cell_type": "code",
   "execution_count": 7,
   "metadata": {},
   "outputs": [
    {
     "name": "stdout",
     "output_type": "stream",
     "text": [
      "[0]\tvalidation_0-auc:0.968775\n",
      "[1]\tvalidation_0-auc:0.965589\n",
      "[2]\tvalidation_0-auc:0.967518\n",
      "[3]\tvalidation_0-auc:0.972932\n",
      "[4]\tvalidation_0-auc:0.97445\n",
      "[5]\tvalidation_0-auc:0.97506\n",
      "[6]\tvalidation_0-auc:0.975184\n",
      "[7]\tvalidation_0-auc:0.974985\n",
      "[8]\tvalidation_0-auc:0.974562\n",
      "[9]\tvalidation_0-auc:0.974139\n",
      "[10]\tvalidation_0-auc:0.974823\n",
      "[11]\tvalidation_0-auc:0.974848\n",
      "[12]\tvalidation_0-auc:0.974761\n",
      "[13]\tvalidation_0-auc:0.974774\n",
      "[14]\tvalidation_0-auc:0.973031\n",
      "[15]\tvalidation_0-auc:0.972832\n",
      "[16]\tvalidation_0-auc:0.971351\n",
      "[17]\tvalidation_0-auc:0.972844\n",
      "[18]\tvalidation_0-auc:0.974014\n",
      "[19]\tvalidation_0-auc:0.974238\n",
      "[20]\tvalidation_0-auc:0.973392\n",
      "[21]\tvalidation_0-auc:0.973193\n",
      "[22]\tvalidation_0-auc:0.972571\n",
      "[23]\tvalidation_0-auc:0.972372\n",
      "[24]\tvalidation_0-auc:0.973093\n",
      "[25]\tvalidation_0-auc:0.972919\n",
      "[26]\tvalidation_0-auc:0.973467\n",
      "[27]\tvalidation_0-auc:0.973118\n",
      "[28]\tvalidation_0-auc:0.973691\n",
      "[29]\tvalidation_0-auc:0.974761\n",
      "[30]\tvalidation_0-auc:0.975085\n",
      "[31]\tvalidation_0-auc:0.975632\n",
      "[32]\tvalidation_0-auc:0.975483\n",
      "[33]\tvalidation_0-auc:0.975682\n",
      "[34]\tvalidation_0-auc:0.975483\n",
      "[35]\tvalidation_0-auc:0.975682\n",
      "[36]\tvalidation_0-auc:0.974736\n",
      "[37]\tvalidation_0-auc:0.974612\n",
      "[38]\tvalidation_0-auc:0.974861\n",
      "[39]\tvalidation_0-auc:0.974985\n",
      "[40]\tvalidation_0-auc:0.974512\n",
      "[41]\tvalidation_0-auc:0.974363\n",
      "[42]\tvalidation_0-auc:0.975159\n",
      "[43]\tvalidation_0-auc:0.97511\n",
      "[44]\tvalidation_0-auc:0.975682\n",
      "[45]\tvalidation_0-auc:0.975956\n",
      "[46]\tvalidation_0-auc:0.975458\n",
      "[47]\tvalidation_0-auc:0.975881\n",
      "[48]\tvalidation_0-auc:0.975657\n",
      "[49]\tvalidation_0-auc:0.975483\n",
      "[50]\tvalidation_0-auc:0.975408\n",
      "[51]\tvalidation_0-auc:0.975607\n",
      "[52]\tvalidation_0-auc:0.97501\n",
      "[53]\tvalidation_0-auc:0.974512\n",
      "[54]\tvalidation_0-auc:0.974363\n",
      "[55]\tvalidation_0-auc:0.974089\n",
      "[56]\tvalidation_0-auc:0.973765\n",
      "[57]\tvalidation_0-auc:0.974164\n",
      "[58]\tvalidation_0-auc:0.974139\n",
      "[59]\tvalidation_0-auc:0.973566\n",
      "[60]\tvalidation_0-auc:0.973591\n",
      "[61]\tvalidation_0-auc:0.973915\n",
      "[62]\tvalidation_0-auc:0.973741\n",
      "[63]\tvalidation_0-auc:0.973765\n",
      "[64]\tvalidation_0-auc:0.973492\n",
      "[65]\tvalidation_0-auc:0.973815\n",
      "[66]\tvalidation_0-auc:0.973517\n",
      "[67]\tvalidation_0-auc:0.973616\n",
      "[68]\tvalidation_0-auc:0.973566\n",
      "[69]\tvalidation_0-auc:0.973143\n",
      "[70]\tvalidation_0-auc:0.973293\n",
      "[71]\tvalidation_0-auc:0.973392\n",
      "[72]\tvalidation_0-auc:0.972496\n",
      "[73]\tvalidation_0-auc:0.972297\n",
      "[74]\tvalidation_0-auc:0.972272\n",
      "[75]\tvalidation_0-auc:0.972571\n",
      "[76]\tvalidation_0-auc:0.972546\n",
      "[77]\tvalidation_0-auc:0.97267\n",
      "[78]\tvalidation_0-auc:0.97272\n",
      "[79]\tvalidation_0-auc:0.972596\n",
      "[80]\tvalidation_0-auc:0.972421\n",
      "[81]\tvalidation_0-auc:0.97272\n",
      "[82]\tvalidation_0-auc:0.97282\n",
      "[83]\tvalidation_0-auc:0.972571\n",
      "[84]\tvalidation_0-auc:0.972944\n",
      "[85]\tvalidation_0-auc:0.972869\n",
      "[86]\tvalidation_0-auc:0.972944\n",
      "[87]\tvalidation_0-auc:0.973019\n",
      "[88]\tvalidation_0-auc:0.972994\n",
      "[89]\tvalidation_0-auc:0.973143\n",
      "[90]\tvalidation_0-auc:0.972919\n",
      "[91]\tvalidation_0-auc:0.972247\n",
      "[92]\tvalidation_0-auc:0.97262\n",
      "[93]\tvalidation_0-auc:0.972396\n",
      "[94]\tvalidation_0-auc:0.972496\n",
      "[95]\tvalidation_0-auc:0.97282\n",
      "[96]\tvalidation_0-auc:0.97282\n",
      "[97]\tvalidation_0-auc:0.972919\n",
      "[98]\tvalidation_0-auc:0.97282\n",
      "[99]\tvalidation_0-auc:0.972745\n",
      "CPU times: user 11.6 s, sys: 16.5 ms, total: 11.7 s\n",
      "Wall time: 11.6 s\n"
     ]
    },
    {
     "data": {
      "text/plain": [
       "XGBClassifier(base_score=0.5, booster='gbtree', colsample_bylevel=1,\n",
       "       colsample_bynode=1, colsample_bytree=1, gamma=0, learning_rate=0.1,\n",
       "       max_delta_step=0, max_depth=5, min_child_weight=1, missing=None,\n",
       "       n_estimators=100, n_jobs=1, nthread=None,\n",
       "       objective='binary:logistic', random_state=0, reg_alpha=0,\n",
       "       reg_lambda=1, scale_pos_weight=1, seed=1000, silent=None,\n",
       "       subsample=1, verbosity=1)"
      ]
     },
     "execution_count": 7,
     "metadata": {},
     "output_type": "execute_result"
    }
   ],
   "source": [
    "%%time\n",
    "clf.fit(X=X_train, y=y_train, eval_set=[(X_test, y_test)] , eval_metric='auc', verbose=True)"
   ]
  },
  {
   "cell_type": "code",
   "execution_count": 8,
   "metadata": {},
   "outputs": [],
   "source": [
    "pred_y_train = clf.predict_proba(X_train)[:,1]\n",
    "pred_y_test  = clf.predict_proba(X_test)[:,1]"
   ]
  },
  {
   "cell_type": "code",
   "execution_count": 9,
   "metadata": {},
   "outputs": [],
   "source": [
    "import matplotlib.pyplot as plt"
   ]
  },
  {
   "cell_type": "code",
   "execution_count": 16,
   "metadata": {},
   "outputs": [],
   "source": [
    "def plotting(pred_y_list, label_list, save_path=False, stat='Train'):\n",
    "    ###########################################################\n",
    "    plt.ylabel('Log Count')\n",
    "    plt.xlabel('Score')\n",
    "    plt.yscale('log')\n",
    "    \n",
    "    ax = plt.gca()\n",
    "    ax.spines['right'].set_color('none')\n",
    "    ax.spines['top'].set_color('none')\n",
    "    ax.spines['left'].set_color('none')\n",
    "    ax.spines['bottom'].set_color('none')\n",
    "    \n",
    "    plt.grid(color = '#9999CC')\n",
    "    plt.hist(pred_y_list[np.where(label_list == 0)], \n",
    "             bins=[n/200 for n in range(200)], \n",
    "             label='Negative',\n",
    "             color='#598987')\n",
    "    plt.hist(pred_y_list[np.where(label_list == 1)], \n",
    "             bins=[n/200 for n in range(200)], \n",
    "             label='Positive', \n",
    "             color='#FFD000')\n",
    "    plt.legend(loc='upper right')\n",
    "    if save_path:\n",
    "        plt.savefig(\"result/{}_{}_1.jpg\".format(save_path, stat), dpi=1000, quality=100)\n",
    "    plt.show()\n",
    "    ###########################################################\n",
    "    plt.ylabel('Log Count')\n",
    "    plt.xlabel('Score')\n",
    "    plt.yscale('log')\n",
    "    \n",
    "    ax = plt.gca()\n",
    "    ax.spines['right'].set_color('none')\n",
    "    ax.spines['top'].set_color('none')\n",
    "    ax.spines['left'].set_color('none')\n",
    "    ax.spines['bottom'].set_color('none')\n",
    "    \n",
    "    plt.grid(color = '#9999CC')\n",
    "    plt.hist(pred_y_list[np.where(label_list == 0)], \n",
    "             bins=[n/1000 for n in range(35)], \n",
    "             label='Negative', \n",
    "             color='#598987')\n",
    "    plt.hist(pred_y_list[np.where(label_list == 1)], \n",
    "             bins=[n/1000 for n in range(35)], \n",
    "             label='Positive', \n",
    "             color='#FFD000')\n",
    "    plt.legend(loc='upper right')\n",
    "    if save_path:\n",
    "        plt.savefig(\"result/{}_{}_2.jpg\".format(save_path, stat), dpi=1000, quality=100)\n",
    "    plt.show()\n",
    "\n",
    "    \n",
    "# y_train, pred_y_train\n",
    "# y_test, pred_y_test  \n",
    "\n",
    "# def func(label_list, pred_y_list, save_path=False):\n",
    "def func(y_train, pred_y_train, y_test, pred_y_test, save_path=False):   \n",
    "    auc_train = roc_auc_score(y_train, pred_y_train)\n",
    "    auc_test  = roc_auc_score(y_test, pred_y_test)\n",
    "    \n",
    "    thres1 = np.min(pred_y_train[np.where(y_train == 1)])\n",
    "    print('Training => auc: {:.6f}'.format(auc_train))\n",
    "    print(\"Threshold is set to {}\".format(thres1))\n",
    "    \n",
    "    y_predict_bin = np.array(pred_y_train >= thres1, dtype=int)\n",
    "    prec_train, recall_train, f1_train = evaluate(y_train, y_predict_bin)\n",
    "    print('prec: {:.4f}, rec: {:.4f}, F1score: {:.4f}'.format(prec_train, recall_train, f1_train))\n",
    "    \n",
    "    print (\"Total Positve: {}\".format(len(np.where(y_train == 1)[0])))\n",
    "    num_cand = np.sum(pred_y_train >= thres1)\n",
    "    print (\"Total Candidate: {}\".format(num_cand))\n",
    "#     print (\"Negative Q95: {}\".format(thres2))\n",
    "    plotting(pred_y_train, y_train, save_path)\n",
    "    \n",
    "#     pd.DataFrame([pred_y_train, y_train, training_announce.tolist()], \n",
    "#                  index=['score', 'label', 'annouce']).T.to_csv('result/FeatEmbed_XGB_Training_res_Part2.csv', index=None)\n",
    "    \n",
    "    ##### Testing #####\n",
    "    # thres2 = np.min(pred_y_test[np.where(y_test == 1)])\n",
    "    ratio = 0.05\n",
    "    thres2 = sorted(pred_y_test, reverse=True)[int(y_test.sum() + int(len(y_test)*ratio))]\n",
    "    print(\"Recall of Testing = 1 : {}\".format(thres2 > np.min(pred_y_test)))\n",
    "    print('Testing => auc: {:.6f}'.format(auc_test))\n",
    "    print(\"Threshold is set to {}\".format(thres2))\n",
    "    \n",
    "    y_predict_bin = np.array(pred_y_test >= thres2, dtype=int)\n",
    "    prec_test, recall_test, f1_test = evaluate(y_test, y_predict_bin)\n",
    "    print('prec: {:.4f}, rec: {:.4f}, F1score: {:.4f}'.format(prec_test, recall_test, f1_test))\n",
    "    print(\"Total Positve: {}\".format(np.sum(y_test)))\n",
    "    print(\"Total Candidate: {}\".format(np.sum(pred_y_test >= thres2)))\n",
    "    print('----------------------------------------------')\n",
    "    \n",
    "    ## High Risk\n",
    "    print(\"High Risk Positve: {}\".format(np.sum(y_test[pred_y_test > thres1])))\n",
    "    print(\"High Risk Candidate: {}\".format(np.sum(pred_y_test > thres1)))\n",
    "    print(\"High Risk Prec: {}\".format(np.sum(y_test[np.where(pred_y_test > thres1)])/np.sum(pred_y_test > thres1)))\n",
    "    print('----------------------------------------------')\n",
    "    ## Medium Risk\n",
    "    print(\"Medium Risk Positve: {}\".format(np.sum(y_test[(pred_y_test <= thres1) & (pred_y_test > thres2)])))\n",
    "    print(\"Medium Risk Candidate: {}\".format(np.sum((pred_y_test <= thres1) & (pred_y_test > thres2))))\n",
    "    print(\"Medium Risk Prec: {}\".format(np.sum(y_test[np.where((pred_y_test <= thres1) & (pred_y_test > thres2))])/\\\n",
    "                                                             np.sum((pred_y_test <= thres1) & (pred_y_test > thres2))))\n",
    "    plotting(pred_y_test, y_test, save_path, stat='Test')\n",
    "\n",
    "#     pd.DataFrame([pred_y_test, y_test, testing_announce.tolist()], \n",
    "#                  index=['score', 'label', 'annouce']).T.to_csv('result/FeatEmbed_XGB_Testing_res_Part2.csv', index=None)"
   ]
  },
  {
   "cell_type": "code",
   "execution_count": 17,
   "metadata": {},
   "outputs": [
    {
     "name": "stdout",
     "output_type": "stream",
     "text": [
      "Training => auc: 1.000000\n",
      "Threshold is set to 0.7225598692893982\n",
      "prec: 1.0000, rec: 1.0000, F1score: 1.0000\n",
      "Total Positve: 103\n",
      "Total Candidate: 103\n"
     ]
    },
    {
     "data": {
      "image/png": "[encoded data removed]",
      "text/plain": [
       "<Figure size 432x288 with 1 Axes>"
      ]
     },
     "metadata": {
      "needs_background": "light"
     },
     "output_type": "display_data"
    },
    {
     "data": {
      "image/png": "[encoded data removed]",
      "text/plain": [
       "<Figure size 432x288 with 1 Axes>"
      ]
     },
     "metadata": {
      "needs_background": "light"
     },
     "output_type": "display_data"
    },
    {
     "name": "stdout",
     "output_type": "stream",
     "text": [
      "Recall of Testing = 1 : True\n",
      "Testing => auc: 0.972745\n",
      "Threshold is set to 0.020811058580875397\n",
      "prec: 0.1145, rec: 0.8333, F1score: 0.2013\n",
      "Total Positve: 18\n",
      "Total Candidate: 131\n",
      "----------------------------------------------\n",
      "High Risk Positve: 1\n",
      "High Risk Candidate: 1\n",
      "High Risk Prec: 1.0\n",
      "----------------------------------------------\n",
      "Medium Risk Positve: 13\n",
      "Medium Risk Candidate: 129\n",
      "Medium Risk Prec: 0.10077519379844961\n"
     ]
    },
    {
     "data": {
      "image/png": "[encoded data removed]",
      "text/plain": [
       "<Figure size 432x288 with 1 Axes>"
      ]
     },
     "metadata": {
      "needs_background": "light"
     },
     "output_type": "display_data"
    },
    {
     "data": {
      "image/png": "[encoded data removed]",
      "text/plain": [
       "<Figure size 432x288 with 1 Axes>"
      ]
     },
     "metadata": {
      "needs_background": "light"
     },
     "output_type": "display_data"
    }
   ],
   "source": [
    "func(y_train, pred_y_train, y_test, pred_y_test, save_path='FeatEmbed_XGB_Part2')"
   ]
  },
  {
   "cell_type": "code",
   "execution_count": null,
   "metadata": {},
   "outputs": [],
   "source": []
  }
 ],
 "metadata": {
  "kernelspec": {
   "display_name": "Python 3",
   "language": "python",
   "name": "python3"
  },
  "language_info": {
   "codemirror_mode": {
    "name": "ipython",
    "version": 3
   },
   "file_extension": ".py",
   "mimetype": "text/x-python",
   "name": "python",
   "nbconvert_exporter": "python",
   "pygments_lexer": "ipython3",
   "version": "3.6.10"
  }
 },
 "nbformat": 4,
 "nbformat_minor": 2
}
